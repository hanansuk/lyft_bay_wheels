{
 "cells": [
  {
   "cell_type": "code",
   "execution_count": 240,
   "id": "27dc830c",
   "metadata": {},
   "outputs": [],
   "source": [
    "import pandas as pd\n",
    "import seaborn as sns"
   ]
  },
  {
   "cell_type": "markdown",
   "id": "a0d602c4",
   "metadata": {},
   "source": [
    "# Initial Data Exploration and Wrangling"
   ]
  },
  {
   "cell_type": "code",
   "execution_count": 241,
   "id": "ce4ee8e0",
   "metadata": {},
   "outputs": [
    {
     "name": "stderr",
     "output_type": "stream",
     "text": [
      "Query complete after 0.00s: 100%|██████████| 1/1 [00:00<00:00, 391.84query/s] \n",
      "Downloading: 100%|██████████| 981065/981065 [00:02<00:00, 466218.43rows/s] \n"
     ]
    },
    {
     "data": {
      "text/html": [
       "<div>\n",
       "<style scoped>\n",
       "    .dataframe tbody tr th:only-of-type {\n",
       "        vertical-align: middle;\n",
       "    }\n",
       "\n",
       "    .dataframe tbody tr th {\n",
       "        vertical-align: top;\n",
       "    }\n",
       "\n",
       "    .dataframe thead th {\n",
       "        text-align: right;\n",
       "    }\n",
       "</style>\n",
       "<table border=\"1\" class=\"dataframe\">\n",
       "  <thead>\n",
       "    <tr style=\"text-align: right;\">\n",
       "      <th></th>\n",
       "      <th>trip_id</th>\n",
       "      <th>duration_sec</th>\n",
       "      <th>start_date</th>\n",
       "      <th>start_station_name</th>\n",
       "      <th>start_station_id</th>\n",
       "      <th>end_date</th>\n",
       "      <th>end_station_name</th>\n",
       "      <th>end_station_id</th>\n",
       "      <th>bike_number</th>\n",
       "      <th>zip_code</th>\n",
       "      <th>subscriber_type</th>\n",
       "      <th>HOUR</th>\n",
       "      <th>DATE</th>\n",
       "    </tr>\n",
       "  </thead>\n",
       "  <tbody>\n",
       "    <tr>\n",
       "      <th>0</th>\n",
       "      <td>944732</td>\n",
       "      <td>2618</td>\n",
       "      <td>2015-09-24 17:22:00+00:00</td>\n",
       "      <td>Mezes</td>\n",
       "      <td>83</td>\n",
       "      <td>2015-09-24 18:06:00+00:00</td>\n",
       "      <td>Mezes</td>\n",
       "      <td>83</td>\n",
       "      <td>653</td>\n",
       "      <td>94063</td>\n",
       "      <td>Customer</td>\n",
       "      <td>17</td>\n",
       "      <td>2015-09-24</td>\n",
       "    </tr>\n",
       "    <tr>\n",
       "      <th>1</th>\n",
       "      <td>984595</td>\n",
       "      <td>5957</td>\n",
       "      <td>2015-10-25 18:12:00+00:00</td>\n",
       "      <td>Mezes</td>\n",
       "      <td>83</td>\n",
       "      <td>2015-10-25 19:51:00+00:00</td>\n",
       "      <td>Mezes</td>\n",
       "      <td>83</td>\n",
       "      <td>52</td>\n",
       "      <td>nil</td>\n",
       "      <td>Customer</td>\n",
       "      <td>18</td>\n",
       "      <td>2015-10-25</td>\n",
       "    </tr>\n",
       "    <tr>\n",
       "      <th>2</th>\n",
       "      <td>984596</td>\n",
       "      <td>5913</td>\n",
       "      <td>2015-10-25 18:13:00+00:00</td>\n",
       "      <td>Mezes</td>\n",
       "      <td>83</td>\n",
       "      <td>2015-10-25 19:51:00+00:00</td>\n",
       "      <td>Mezes</td>\n",
       "      <td>83</td>\n",
       "      <td>121</td>\n",
       "      <td>nil</td>\n",
       "      <td>Customer</td>\n",
       "      <td>18</td>\n",
       "      <td>2015-10-25</td>\n",
       "    </tr>\n",
       "    <tr>\n",
       "      <th>3</th>\n",
       "      <td>1129385</td>\n",
       "      <td>6079</td>\n",
       "      <td>2016-03-18 10:33:00+00:00</td>\n",
       "      <td>Mezes</td>\n",
       "      <td>83</td>\n",
       "      <td>2016-03-18 12:14:00+00:00</td>\n",
       "      <td>Mezes</td>\n",
       "      <td>83</td>\n",
       "      <td>208</td>\n",
       "      <td>94070</td>\n",
       "      <td>Customer</td>\n",
       "      <td>10</td>\n",
       "      <td>2016-03-18</td>\n",
       "    </tr>\n",
       "    <tr>\n",
       "      <th>4</th>\n",
       "      <td>1030383</td>\n",
       "      <td>5780</td>\n",
       "      <td>2015-12-06 10:52:00+00:00</td>\n",
       "      <td>Mezes</td>\n",
       "      <td>83</td>\n",
       "      <td>2015-12-06 12:28:00+00:00</td>\n",
       "      <td>Mezes</td>\n",
       "      <td>83</td>\n",
       "      <td>44</td>\n",
       "      <td>94064</td>\n",
       "      <td>Customer</td>\n",
       "      <td>10</td>\n",
       "      <td>2015-12-06</td>\n",
       "    </tr>\n",
       "    <tr>\n",
       "      <th>...</th>\n",
       "      <td>...</td>\n",
       "      <td>...</td>\n",
       "      <td>...</td>\n",
       "      <td>...</td>\n",
       "      <td>...</td>\n",
       "      <td>...</td>\n",
       "      <td>...</td>\n",
       "      <td>...</td>\n",
       "      <td>...</td>\n",
       "      <td>...</td>\n",
       "      <td>...</td>\n",
       "      <td>...</td>\n",
       "      <td>...</td>\n",
       "    </tr>\n",
       "    <tr>\n",
       "      <th>981060</th>\n",
       "      <td>224005</td>\n",
       "      <td>10196</td>\n",
       "      <td>2014-03-22 19:10:00+00:00</td>\n",
       "      <td>Yerba Buena Center of the Arts (3rd @ Howard)</td>\n",
       "      <td>68</td>\n",
       "      <td>2014-03-22 22:00:00+00:00</td>\n",
       "      <td>Yerba Buena Center of the Arts (3rd @ Howard)</td>\n",
       "      <td>68</td>\n",
       "      <td>355</td>\n",
       "      <td>95655</td>\n",
       "      <td>Customer</td>\n",
       "      <td>19</td>\n",
       "      <td>2014-03-22</td>\n",
       "    </tr>\n",
       "    <tr>\n",
       "      <th>981061</th>\n",
       "      <td>1292797</td>\n",
       "      <td>7325</td>\n",
       "      <td>2016-07-27 15:58:00+00:00</td>\n",
       "      <td>Yerba Buena Center of the Arts (3rd @ Howard)</td>\n",
       "      <td>68</td>\n",
       "      <td>2016-07-27 18:00:00+00:00</td>\n",
       "      <td>Yerba Buena Center of the Arts (3rd @ Howard)</td>\n",
       "      <td>68</td>\n",
       "      <td>52</td>\n",
       "      <td>27606</td>\n",
       "      <td>Customer</td>\n",
       "      <td>15</td>\n",
       "      <td>2016-07-27</td>\n",
       "    </tr>\n",
       "    <tr>\n",
       "      <th>981062</th>\n",
       "      <td>246039</td>\n",
       "      <td>72</td>\n",
       "      <td>2014-04-12 14:47:00+00:00</td>\n",
       "      <td>Yerba Buena Center of the Arts (3rd @ Howard)</td>\n",
       "      <td>68</td>\n",
       "      <td>2014-04-12 14:48:00+00:00</td>\n",
       "      <td>Yerba Buena Center of the Arts (3rd @ Howard)</td>\n",
       "      <td>68</td>\n",
       "      <td>309</td>\n",
       "      <td>1</td>\n",
       "      <td>Customer</td>\n",
       "      <td>14</td>\n",
       "      <td>2014-04-12</td>\n",
       "    </tr>\n",
       "    <tr>\n",
       "      <th>981063</th>\n",
       "      <td>138370</td>\n",
       "      <td>12752</td>\n",
       "      <td>2013-12-30 13:35:00+00:00</td>\n",
       "      <td>Yerba Buena Center of the Arts (3rd @ Howard)</td>\n",
       "      <td>68</td>\n",
       "      <td>2013-12-30 17:07:00+00:00</td>\n",
       "      <td>Yerba Buena Center of the Arts (3rd @ Howard)</td>\n",
       "      <td>68</td>\n",
       "      <td>439</td>\n",
       "      <td>90068</td>\n",
       "      <td>Customer</td>\n",
       "      <td>13</td>\n",
       "      <td>2013-12-30</td>\n",
       "    </tr>\n",
       "    <tr>\n",
       "      <th>981064</th>\n",
       "      <td>149518</td>\n",
       "      <td>4874</td>\n",
       "      <td>2014-01-10 16:39:00+00:00</td>\n",
       "      <td>Yerba Buena Center of the Arts (3rd @ Howard)</td>\n",
       "      <td>68</td>\n",
       "      <td>2014-01-10 18:01:00+00:00</td>\n",
       "      <td>Yerba Buena Center of the Arts (3rd @ Howard)</td>\n",
       "      <td>68</td>\n",
       "      <td>471</td>\n",
       "      <td>45227</td>\n",
       "      <td>Customer</td>\n",
       "      <td>16</td>\n",
       "      <td>2014-01-10</td>\n",
       "    </tr>\n",
       "  </tbody>\n",
       "</table>\n",
       "<p>981065 rows × 13 columns</p>\n",
       "</div>"
      ],
      "text/plain": [
       "        trip_id  duration_sec                start_date  \\\n",
       "0        944732          2618 2015-09-24 17:22:00+00:00   \n",
       "1        984595          5957 2015-10-25 18:12:00+00:00   \n",
       "2        984596          5913 2015-10-25 18:13:00+00:00   \n",
       "3       1129385          6079 2016-03-18 10:33:00+00:00   \n",
       "4       1030383          5780 2015-12-06 10:52:00+00:00   \n",
       "...         ...           ...                       ...   \n",
       "981060   224005         10196 2014-03-22 19:10:00+00:00   \n",
       "981061  1292797          7325 2016-07-27 15:58:00+00:00   \n",
       "981062   246039            72 2014-04-12 14:47:00+00:00   \n",
       "981063   138370         12752 2013-12-30 13:35:00+00:00   \n",
       "981064   149518          4874 2014-01-10 16:39:00+00:00   \n",
       "\n",
       "                                   start_station_name  start_station_id  \\\n",
       "0                                               Mezes                83   \n",
       "1                                               Mezes                83   \n",
       "2                                               Mezes                83   \n",
       "3                                               Mezes                83   \n",
       "4                                               Mezes                83   \n",
       "...                                               ...               ...   \n",
       "981060  Yerba Buena Center of the Arts (3rd @ Howard)                68   \n",
       "981061  Yerba Buena Center of the Arts (3rd @ Howard)                68   \n",
       "981062  Yerba Buena Center of the Arts (3rd @ Howard)                68   \n",
       "981063  Yerba Buena Center of the Arts (3rd @ Howard)                68   \n",
       "981064  Yerba Buena Center of the Arts (3rd @ Howard)                68   \n",
       "\n",
       "                        end_date  \\\n",
       "0      2015-09-24 18:06:00+00:00   \n",
       "1      2015-10-25 19:51:00+00:00   \n",
       "2      2015-10-25 19:51:00+00:00   \n",
       "3      2016-03-18 12:14:00+00:00   \n",
       "4      2015-12-06 12:28:00+00:00   \n",
       "...                          ...   \n",
       "981060 2014-03-22 22:00:00+00:00   \n",
       "981061 2016-07-27 18:00:00+00:00   \n",
       "981062 2014-04-12 14:48:00+00:00   \n",
       "981063 2013-12-30 17:07:00+00:00   \n",
       "981064 2014-01-10 18:01:00+00:00   \n",
       "\n",
       "                                     end_station_name  end_station_id  \\\n",
       "0                                               Mezes              83   \n",
       "1                                               Mezes              83   \n",
       "2                                               Mezes              83   \n",
       "3                                               Mezes              83   \n",
       "4                                               Mezes              83   \n",
       "...                                               ...             ...   \n",
       "981060  Yerba Buena Center of the Arts (3rd @ Howard)              68   \n",
       "981061  Yerba Buena Center of the Arts (3rd @ Howard)              68   \n",
       "981062  Yerba Buena Center of the Arts (3rd @ Howard)              68   \n",
       "981063  Yerba Buena Center of the Arts (3rd @ Howard)              68   \n",
       "981064  Yerba Buena Center of the Arts (3rd @ Howard)              68   \n",
       "\n",
       "        bike_number zip_code subscriber_type  HOUR        DATE  \n",
       "0               653    94063        Customer    17  2015-09-24  \n",
       "1                52      nil        Customer    18  2015-10-25  \n",
       "2               121      nil        Customer    18  2015-10-25  \n",
       "3               208    94070        Customer    10  2016-03-18  \n",
       "4                44    94064        Customer    10  2015-12-06  \n",
       "...             ...      ...             ...   ...         ...  \n",
       "981060          355    95655        Customer    19  2014-03-22  \n",
       "981061           52    27606        Customer    15  2016-07-27  \n",
       "981062          309        1        Customer    14  2014-04-12  \n",
       "981063          439    90068        Customer    13  2013-12-30  \n",
       "981064          471    45227        Customer    16  2014-01-10  \n",
       "\n",
       "[981065 rows x 13 columns]"
      ]
     },
     "execution_count": 241,
     "metadata": {},
     "output_type": "execute_result"
    }
   ],
   "source": [
    "%%bigquery\n",
    "\n",
    "# We will be using the \"trips\" table with additional columns for hour and date\n",
    "\n",
    "SELECT *, EXTRACT(hour FROM `bigquery-public-data.san_francisco.bikeshare_trips`.start_date) as HOUR, \n",
    "    EXTRACT(date FROM `bigquery-public-data.san_francisco.bikeshare_trips`.start_date) as DATE\n",
    "FROM `bigquery-public-data.san_francisco.bikeshare_trips`\n",
    "WHERE EXTRACT(date FROM `bigquery-public-data.san_francisco.bikeshare_trips`.start_date) = EXTRACT(date FROM `bigquery-public-data.san_francisco.bikeshare_trips`.end_date)"
   ]
  },
  {
   "cell_type": "code",
   "execution_count": 242,
   "id": "3c759501",
   "metadata": {},
   "outputs": [
    {
     "name": "stderr",
     "output_type": "stream",
     "text": [
      "Query complete after 0.00s: 100%|██████████| 1/1 [00:00<00:00, 919.60query/s] \n",
      "Downloading: 100%|██████████| 938916/938916 [00:02<00:00, 343156.06rows/s]\n"
     ]
    }
   ],
   "source": [
    "%%bigquery df\n",
    "\n",
    "# Importing the new dataset with some data cleaning\n",
    "\n",
    "SELECT *\n",
    "FROM `hanan-w205.Project_1_station_temp.Trips_with_hour`\n",
    "WHERE start_station_name <> end_station_name\n",
    "    AND trip_id IS NOT NULL\n",
    "    AND duration_sec IS NOT NULL\n",
    "    AND start_date IS NOT NULL\n",
    "    AND start_station_id IS NOT NULL\n",
    "    AND end_date IS NOT NULL\n",
    "    AND end_station_id IS NOT NULL\n",
    "    AND bike_number IS NOT NULL\n",
    "    AND duration_sec > 60 AND duration_sec < 5400"
   ]
  },
  {
   "cell_type": "code",
   "execution_count": 243,
   "id": "5d02cf14",
   "metadata": {},
   "outputs": [
    {
     "data": {
      "text/html": [
       "<div>\n",
       "<style scoped>\n",
       "    .dataframe tbody tr th:only-of-type {\n",
       "        vertical-align: middle;\n",
       "    }\n",
       "\n",
       "    .dataframe tbody tr th {\n",
       "        vertical-align: top;\n",
       "    }\n",
       "\n",
       "    .dataframe thead th {\n",
       "        text-align: right;\n",
       "    }\n",
       "</style>\n",
       "<table border=\"1\" class=\"dataframe\">\n",
       "  <thead>\n",
       "    <tr style=\"text-align: right;\">\n",
       "      <th></th>\n",
       "      <th>trip_id</th>\n",
       "      <th>duration_sec</th>\n",
       "      <th>start_date</th>\n",
       "      <th>start_station_name</th>\n",
       "      <th>start_station_id</th>\n",
       "      <th>end_date</th>\n",
       "      <th>end_station_name</th>\n",
       "      <th>end_station_id</th>\n",
       "      <th>bike_number</th>\n",
       "      <th>zip_code</th>\n",
       "      <th>subscriber_type</th>\n",
       "      <th>HOUR</th>\n",
       "      <th>DATE</th>\n",
       "    </tr>\n",
       "  </thead>\n",
       "  <tbody>\n",
       "    <tr>\n",
       "      <th>0</th>\n",
       "      <td>1092841</td>\n",
       "      <td>1021</td>\n",
       "      <td>2016-02-14 05:25:00+00:00</td>\n",
       "      <td>Kaiser Hospital</td>\n",
       "      <td>26</td>\n",
       "      <td>2016-02-14 05:42:00+00:00</td>\n",
       "      <td>Mezes</td>\n",
       "      <td>83</td>\n",
       "      <td>246</td>\n",
       "      <td>94025</td>\n",
       "      <td>Subscriber</td>\n",
       "      <td>5</td>\n",
       "      <td>2016-02-14</td>\n",
       "    </tr>\n",
       "    <tr>\n",
       "      <th>1</th>\n",
       "      <td>957659</td>\n",
       "      <td>587</td>\n",
       "      <td>2015-10-05 16:41:00+00:00</td>\n",
       "      <td>Sequoia Hospital</td>\n",
       "      <td>21</td>\n",
       "      <td>2015-10-05 16:51:00+00:00</td>\n",
       "      <td>Mezes</td>\n",
       "      <td>83</td>\n",
       "      <td>650</td>\n",
       "      <td>94063</td>\n",
       "      <td>Subscriber</td>\n",
       "      <td>16</td>\n",
       "      <td>2015-10-05</td>\n",
       "    </tr>\n",
       "    <tr>\n",
       "      <th>2</th>\n",
       "      <td>1102613</td>\n",
       "      <td>1334</td>\n",
       "      <td>2016-02-23 12:00:00+00:00</td>\n",
       "      <td>San Mateo County Center</td>\n",
       "      <td>23</td>\n",
       "      <td>2016-02-23 12:22:00+00:00</td>\n",
       "      <td>Mezes</td>\n",
       "      <td>83</td>\n",
       "      <td>174</td>\n",
       "      <td>93292</td>\n",
       "      <td>Customer</td>\n",
       "      <td>12</td>\n",
       "      <td>2016-02-23</td>\n",
       "    </tr>\n",
       "    <tr>\n",
       "      <th>3</th>\n",
       "      <td>1047069</td>\n",
       "      <td>1113</td>\n",
       "      <td>2015-12-25 13:17:00+00:00</td>\n",
       "      <td>San Mateo County Center</td>\n",
       "      <td>23</td>\n",
       "      <td>2015-12-25 13:35:00+00:00</td>\n",
       "      <td>Mezes</td>\n",
       "      <td>83</td>\n",
       "      <td>149</td>\n",
       "      <td>94063</td>\n",
       "      <td>Subscriber</td>\n",
       "      <td>13</td>\n",
       "      <td>2015-12-25</td>\n",
       "    </tr>\n",
       "    <tr>\n",
       "      <th>4</th>\n",
       "      <td>1114916</td>\n",
       "      <td>1642</td>\n",
       "      <td>2016-03-03 21:54:00+00:00</td>\n",
       "      <td>Redwood City Public Library</td>\n",
       "      <td>24</td>\n",
       "      <td>2016-03-03 22:22:00+00:00</td>\n",
       "      <td>Mezes</td>\n",
       "      <td>83</td>\n",
       "      <td>208</td>\n",
       "      <td>94063</td>\n",
       "      <td>Customer</td>\n",
       "      <td>21</td>\n",
       "      <td>2016-03-03</td>\n",
       "    </tr>\n",
       "    <tr>\n",
       "      <th>5</th>\n",
       "      <td>1114919</td>\n",
       "      <td>1377</td>\n",
       "      <td>2016-03-03 22:00:00+00:00</td>\n",
       "      <td>Redwood City Public Library</td>\n",
       "      <td>24</td>\n",
       "      <td>2016-03-03 22:23:00+00:00</td>\n",
       "      <td>Mezes</td>\n",
       "      <td>83</td>\n",
       "      <td>52</td>\n",
       "      <td>94063</td>\n",
       "      <td>Customer</td>\n",
       "      <td>22</td>\n",
       "      <td>2016-03-03</td>\n",
       "    </tr>\n",
       "    <tr>\n",
       "      <th>6</th>\n",
       "      <td>984088</td>\n",
       "      <td>422</td>\n",
       "      <td>2015-10-24 14:20:00+00:00</td>\n",
       "      <td>Redwood City Public Library</td>\n",
       "      <td>24</td>\n",
       "      <td>2015-10-24 14:27:00+00:00</td>\n",
       "      <td>Mezes</td>\n",
       "      <td>83</td>\n",
       "      <td>121</td>\n",
       "      <td>94063</td>\n",
       "      <td>Subscriber</td>\n",
       "      <td>14</td>\n",
       "      <td>2015-10-24</td>\n",
       "    </tr>\n",
       "    <tr>\n",
       "      <th>7</th>\n",
       "      <td>984411</td>\n",
       "      <td>536</td>\n",
       "      <td>2015-10-25 12:45:00+00:00</td>\n",
       "      <td>Redwood City Public Library</td>\n",
       "      <td>24</td>\n",
       "      <td>2015-10-25 12:54:00+00:00</td>\n",
       "      <td>Mezes</td>\n",
       "      <td>83</td>\n",
       "      <td>138</td>\n",
       "      <td>94063</td>\n",
       "      <td>Subscriber</td>\n",
       "      <td>12</td>\n",
       "      <td>2015-10-25</td>\n",
       "    </tr>\n",
       "    <tr>\n",
       "      <th>8</th>\n",
       "      <td>984412</td>\n",
       "      <td>487</td>\n",
       "      <td>2015-10-25 12:45:00+00:00</td>\n",
       "      <td>Redwood City Public Library</td>\n",
       "      <td>24</td>\n",
       "      <td>2015-10-25 12:53:00+00:00</td>\n",
       "      <td>Mezes</td>\n",
       "      <td>83</td>\n",
       "      <td>686</td>\n",
       "      <td>94063</td>\n",
       "      <td>Subscriber</td>\n",
       "      <td>12</td>\n",
       "      <td>2015-10-25</td>\n",
       "    </tr>\n",
       "    <tr>\n",
       "      <th>9</th>\n",
       "      <td>984087</td>\n",
       "      <td>451</td>\n",
       "      <td>2015-10-24 14:20:00+00:00</td>\n",
       "      <td>Redwood City Public Library</td>\n",
       "      <td>24</td>\n",
       "      <td>2015-10-24 14:27:00+00:00</td>\n",
       "      <td>Mezes</td>\n",
       "      <td>83</td>\n",
       "      <td>52</td>\n",
       "      <td>94063</td>\n",
       "      <td>Subscriber</td>\n",
       "      <td>14</td>\n",
       "      <td>2015-10-24</td>\n",
       "    </tr>\n",
       "  </tbody>\n",
       "</table>\n",
       "</div>"
      ],
      "text/plain": [
       "   trip_id  duration_sec                start_date  \\\n",
       "0  1092841          1021 2016-02-14 05:25:00+00:00   \n",
       "1   957659           587 2015-10-05 16:41:00+00:00   \n",
       "2  1102613          1334 2016-02-23 12:00:00+00:00   \n",
       "3  1047069          1113 2015-12-25 13:17:00+00:00   \n",
       "4  1114916          1642 2016-03-03 21:54:00+00:00   \n",
       "5  1114919          1377 2016-03-03 22:00:00+00:00   \n",
       "6   984088           422 2015-10-24 14:20:00+00:00   \n",
       "7   984411           536 2015-10-25 12:45:00+00:00   \n",
       "8   984412           487 2015-10-25 12:45:00+00:00   \n",
       "9   984087           451 2015-10-24 14:20:00+00:00   \n",
       "\n",
       "            start_station_name  start_station_id                  end_date  \\\n",
       "0              Kaiser Hospital                26 2016-02-14 05:42:00+00:00   \n",
       "1             Sequoia Hospital                21 2015-10-05 16:51:00+00:00   \n",
       "2      San Mateo County Center                23 2016-02-23 12:22:00+00:00   \n",
       "3      San Mateo County Center                23 2015-12-25 13:35:00+00:00   \n",
       "4  Redwood City Public Library                24 2016-03-03 22:22:00+00:00   \n",
       "5  Redwood City Public Library                24 2016-03-03 22:23:00+00:00   \n",
       "6  Redwood City Public Library                24 2015-10-24 14:27:00+00:00   \n",
       "7  Redwood City Public Library                24 2015-10-25 12:54:00+00:00   \n",
       "8  Redwood City Public Library                24 2015-10-25 12:53:00+00:00   \n",
       "9  Redwood City Public Library                24 2015-10-24 14:27:00+00:00   \n",
       "\n",
       "  end_station_name  end_station_id  bike_number zip_code subscriber_type  \\\n",
       "0            Mezes              83          246    94025      Subscriber   \n",
       "1            Mezes              83          650    94063      Subscriber   \n",
       "2            Mezes              83          174    93292        Customer   \n",
       "3            Mezes              83          149    94063      Subscriber   \n",
       "4            Mezes              83          208    94063        Customer   \n",
       "5            Mezes              83           52    94063        Customer   \n",
       "6            Mezes              83          121    94063      Subscriber   \n",
       "7            Mezes              83          138    94063      Subscriber   \n",
       "8            Mezes              83          686    94063      Subscriber   \n",
       "9            Mezes              83           52    94063      Subscriber   \n",
       "\n",
       "   HOUR        DATE  \n",
       "0     5  2016-02-14  \n",
       "1    16  2015-10-05  \n",
       "2    12  2016-02-23  \n",
       "3    13  2015-12-25  \n",
       "4    21  2016-03-03  \n",
       "5    22  2016-03-03  \n",
       "6    14  2015-10-24  \n",
       "7    12  2015-10-25  \n",
       "8    12  2015-10-25  \n",
       "9    14  2015-10-24  "
      ]
     },
     "execution_count": 243,
     "metadata": {},
     "output_type": "execute_result"
    }
   ],
   "source": [
    "df.head(10)"
   ]
  },
  {
   "cell_type": "markdown",
   "id": "a2025848",
   "metadata": {},
   "source": [
    "#### The following plot was used in order to determine the most popular usage times:"
   ]
  },
  {
   "cell_type": "code",
   "execution_count": 257,
   "id": "4bd0aed6",
   "metadata": {},
   "outputs": [
    {
     "data": {
      "text/plain": [
       "Text(20, 120000, 'Total Trips: \\n  938916')"
      ]
     },
     "execution_count": 257,
     "metadata": {},
     "output_type": "execute_result"
    },
    {
     "data": {
      "image/png": "[encoded data removed]",
      "text/plain": [
       "<Figure size 432x288 with 1 Axes>"
      ]
     },
     "metadata": {},
     "output_type": "display_data"
    }
   ],
   "source": [
    "hours = sns.histplot(data = df, x = \"HOUR\", bins = 24)\n",
    "hours.set_xlabel(\"Hour (24h Clock)\", fontsize = 15)\n",
    "hours.set_ylabel(\"Number of Trips\", fontsize = 15)\n",
    "hours.set_title(\"Trips per Time of Day\", fontsize = 15)\n",
    "hours.text(20, 120000, f'Total Trips: \\n  {len(df)}', fontsize = 10)"
   ]
  },
  {
   "cell_type": "markdown",
   "id": "1e04368a",
   "metadata": {},
   "source": [
    "# Q1 - What are the 5 most popular trips that you would call \"commuter trips\"?"
   ]
  },
  {
   "cell_type": "markdown",
   "id": "c859b301",
   "metadata": {},
   "source": [
    "For the purpose of this definition, I isolated the trips that are (almost) without doubt commuter trips. I did so by creating a \"fingerprint\" for the users commuting in the morning and matching them with the trip back from work in the afternoon. This seems to have worked successfully in the most part.\n",
    "\n",
    "I used the following assumptions to \"fingerprint\" the users:\n",
    "1. Users who commute to work in the morning (using the service) will typically also use the service in the afternoon, on their way back from work. Even if that is not the case, I focused on the cases where this is true.\n",
    "2. The start station in the morning will be the end station in the afternoon, and the start station in the afternoon will be the end station in the morning\n",
    "3. The zipcode will be the same zipcode of the user (if a zipcode exists for that user)\n",
    "4. The subscriber type will be the same for morning and afternoon for the same user\n",
    "5. The trip duration to work will be within the 20% variance range from the trip duration from work\n",
    "6. Commuter trips will be longer than 90 seconds and shorter than 3600 seconds (1 hour)\n",
    "7. The start and end station will not be identical for commuters (for neither morning or afternoon trips)\n",
    "8. Commuters will make their morning trip after 5AM and before 10AM, and their afternoon trip after 3PM and before 9PM"
   ]
  },
  {
   "cell_type": "markdown",
   "id": "4e3b2ad7",
   "metadata": {},
   "source": [
    "##### Temporary table \"hanan-w205.Project_1_station_temp.trip_joined\", which will be used to present the commute roundtrips:\n",
    "\n",
    "```sql\n",
    "\n",
    "SELECT *\n",
    "FROM (\n",
    "    SELECT *, COUNT(*) over (partition by morning_trip_id) as Morning_ID_Count\n",
    "    FROM (\n",
    "        SELECT T1.trip_id as morning_trip_id, T1.duration_sec as morning_duration_sec, T1.start_date as morning_start_date, T1.start_station_name as morning_start_name,\n",
    "            T1.start_station_id as morning_start_id, T1.end_date as morning_end_date, T1.end_station_name as morning_end_name, T1.end_station_id as morning_end_id,\n",
    "            T1.bike_number as morning_bike_number, T1.zip_code as morning_zip_code, T1.subscriber_type as morning_subscriber_type, T1.HOUR as morning_hour, T1.DATE as morning_date,\n",
    "            T2.trip_id as afternoon_trip_id, T2.duration_sec as afternoon_duration_sec, T2.start_date as afternoon_start_date, T2.start_station_name as afternoon_start_name,\n",
    "            T2.start_station_id as afternoon_start_id, T2.end_date as afternoon_end_date, T2.end_station_name as afternoon_end_name, T2.end_station_id as afternoon_end_id,\n",
    "            T2.bike_number as afternoon_bike_number, T2.zip_code as afternoon_zip_code, T2.subscriber_type as afternoon_subscriber_type, T2.HOUR as afternoon_hour, T2.DATE as afternoon_date,\n",
    "        FROM `hanan-w205.Project_1_station_temp.Trips_with_hour` T1\n",
    "        INNER JOIN `hanan-w205.Project_1_station_temp.Trips_with_hour` T2 ON \n",
    "            T1.DATE = T2.DATE\n",
    "            AND T1.start_station_id = T2.end_station_id\n",
    "            AND T1.end_station_id = T2.start_station_id\n",
    "            AND T1.zip_code = T2.zip_code\n",
    "            AND T1.subscriber_type = T2.subscriber_type\n",
    "            AND ABS((T1.duration_sec - T2.duration_sec)/T1.duration_sec) < 0.2\n",
    "        WHERE T1.duration_sec > 90 AND T1.duration_sec < 3600 AND T2.duration_sec > 90 AND T2.duration_sec < 3600\n",
    "            AND T1.start_station_id <> T1.end_station_id\n",
    "            AND T2.start_station_id <> T2.end_station_id\n",
    "            AND T1.HOUR < 10 AND T1.HOUR > 4 AND T2.HOUR > 14 AND T2.HOUR < 21\n",
    "      )\n",
    "    )\n",
    "WHERE Morning_ID_Count = 1\n",
    "ORDER BY morning_trip_id\n",
    "```"
   ]
  },
  {
   "cell_type": "markdown",
   "id": "5acb7b5d",
   "metadata": {},
   "source": [
    "### Sanity Check #1- let's look at the plots of the number of trips by hour, for both the Subscribers and Customers (single-time users):"
   ]
  },
  {
   "cell_type": "code",
   "execution_count": 245,
   "id": "1fd934ac",
   "metadata": {},
   "outputs": [
    {
     "data": {
      "text/plain": [
       "Text(20, 118000, 'Total Trips: \\n  835113')"
      ]
     },
     "execution_count": 245,
     "metadata": {},
     "output_type": "execute_result"
    },
    {
     "data": {
      "image/png": "[encoded data removed]",
      "text/plain": [
       "<Figure size 432x288 with 1 Axes>"
      ]
     },
     "metadata": {},
     "output_type": "display_data"
    }
   ],
   "source": [
    "# Trips by hour- Subscribers\n",
    "\n",
    "hours = sns.histplot(data = df[df.subscriber_type == \"Subscriber\"], x = \"HOUR\", bins = 24, color = \"darkgreen\")\n",
    "hours.set_xlabel(\"Hour (24h Clock)\", fontsize = 15)\n",
    "hours.set_ylabel(\"Number of Trips\", fontsize = 15)\n",
    "hours.set_title(\"Trips per Time of Day (Subscribers)\", fontsize = 15)\n",
    "hours.text(20, 118000, f'Total Trips: \\n  {len(df[df.subscriber_type == \"Subscriber\"])}', fontsize = 10)"
   ]
  },
  {
   "cell_type": "code",
   "execution_count": 246,
   "id": "26cc42fa",
   "metadata": {},
   "outputs": [
    {
     "data": {
      "text/plain": [
       "Text(20, 9200, 'Total Trips: \\n  103803')"
      ]
     },
     "execution_count": 246,
     "metadata": {},
     "output_type": "execute_result"
    },
    {
     "data": {
      "image/png": "[encoded data removed]",
      "text/plain": [
       "<Figure size 432x288 with 1 Axes>"
      ]
     },
     "metadata": {},
     "output_type": "display_data"
    }
   ],
   "source": [
    "# Trips by hour- Customers\n",
    "\n",
    "hours = sns.histplot(data = df[df.subscriber_type == \"Customer\"], x = \"HOUR\", bins = 24, color = \"darkred\")\n",
    "hours.set_xlabel(\"Hour (24h Clock)\", fontsize = 15)\n",
    "hours.set_ylabel(\"Number of Trips\", fontsize = 15)\n",
    "hours.set_title(\"Trips per Time of Day (Customers)\", fontsize = 15)\n",
    "hours.text(20, 9200, f'Total Trips: \\n  {len(df[df.subscriber_type == \"Customer\"])}', fontsize = 10)"
   ]
  },
  {
   "cell_type": "markdown",
   "id": "5221f5a5",
   "metadata": {},
   "source": [
    "#### We can clearly see that Subscribers tend to take the trips mostly in the morning and afternoon hours, when commuters typically travel. On the other hand, the \"Customers\" travel mostly around mid-day, so we can assume those are typically users that are not commuting.\n",
    "#### Following that logic, we can run a sanity check: If we managed to successfuly isolate the commuter trips from the non-commuter trips, we should be seeing a significantly higher percentage of subscribers compared to one-time customers."
   ]
  },
  {
   "cell_type": "code",
   "execution_count": 247,
   "id": "cc058a32",
   "metadata": {},
   "outputs": [
    {
     "name": "stderr",
     "output_type": "stream",
     "text": [
      "Query complete after 0.00s: 100%|██████████| 1/1 [00:00<00:00, 373.32query/s] \n",
      "Downloading: 100%|██████████| 2/2 [00:01<00:00,  1.39rows/s]\n"
     ]
    },
    {
     "data": {
      "text/html": [
       "<div>\n",
       "<style scoped>\n",
       "    .dataframe tbody tr th:only-of-type {\n",
       "        vertical-align: middle;\n",
       "    }\n",
       "\n",
       "    .dataframe tbody tr th {\n",
       "        vertical-align: top;\n",
       "    }\n",
       "\n",
       "    .dataframe thead th {\n",
       "        text-align: right;\n",
       "    }\n",
       "</style>\n",
       "<table border=\"1\" class=\"dataframe\">\n",
       "  <thead>\n",
       "    <tr style=\"text-align: right;\">\n",
       "      <th></th>\n",
       "      <th>subscriber_type</th>\n",
       "      <th>Count</th>\n",
       "    </tr>\n",
       "  </thead>\n",
       "  <tbody>\n",
       "    <tr>\n",
       "      <th>0</th>\n",
       "      <td>Customer</td>\n",
       "      <td>136809</td>\n",
       "    </tr>\n",
       "    <tr>\n",
       "      <th>1</th>\n",
       "      <td>Subscriber</td>\n",
       "      <td>846839</td>\n",
       "    </tr>\n",
       "  </tbody>\n",
       "</table>\n",
       "</div>"
      ],
      "text/plain": [
       "  subscriber_type   Count\n",
       "0        Customer  136809\n",
       "1      Subscriber  846839"
      ]
     },
     "execution_count": 247,
     "metadata": {},
     "output_type": "execute_result"
    }
   ],
   "source": [
    "%%bigquery\n",
    "\n",
    "# First we will take a look at the original \"trips\" data set including both commuters and non-commuters. We can see that 86% of the users trips are by subsribers.\n",
    "\n",
    "SELECT subscriber_type, count(*) as Count\n",
    "FROM `bigquery-public-data.san_francisco.bikeshare_trips`\n",
    "GROUP BY subscriber_type"
   ]
  },
  {
   "cell_type": "code",
   "execution_count": 248,
   "id": "d691d9f2",
   "metadata": {},
   "outputs": [
    {
     "name": "stderr",
     "output_type": "stream",
     "text": [
      "Query complete after 0.00s: 100%|██████████| 1/1 [00:00<00:00, 393.98query/s] \n",
      "Downloading: 100%|██████████| 2/2 [00:01<00:00,  1.73rows/s]\n"
     ]
    },
    {
     "data": {
      "text/html": [
       "<div>\n",
       "<style scoped>\n",
       "    .dataframe tbody tr th:only-of-type {\n",
       "        vertical-align: middle;\n",
       "    }\n",
       "\n",
       "    .dataframe tbody tr th {\n",
       "        vertical-align: top;\n",
       "    }\n",
       "\n",
       "    .dataframe thead th {\n",
       "        text-align: right;\n",
       "    }\n",
       "</style>\n",
       "<table border=\"1\" class=\"dataframe\">\n",
       "  <thead>\n",
       "    <tr style=\"text-align: right;\">\n",
       "      <th></th>\n",
       "      <th>morning_subscriber_type</th>\n",
       "      <th>Count</th>\n",
       "    </tr>\n",
       "  </thead>\n",
       "  <tbody>\n",
       "    <tr>\n",
       "      <th>0</th>\n",
       "      <td>Customer</td>\n",
       "      <td>874</td>\n",
       "    </tr>\n",
       "    <tr>\n",
       "      <th>1</th>\n",
       "      <td>Subscriber</td>\n",
       "      <td>60631</td>\n",
       "    </tr>\n",
       "  </tbody>\n",
       "</table>\n",
       "</div>"
      ],
      "text/plain": [
       "  morning_subscriber_type  Count\n",
       "0                Customer    874\n",
       "1              Subscriber  60631"
      ]
     },
     "execution_count": 248,
     "metadata": {},
     "output_type": "execute_result"
    }
   ],
   "source": [
    "%%bigquery\n",
    "\n",
    "# On the other hand, with our new dataset for commuters only- 98.6% of the trips are done by subscribers, implying we successfuly isolated the commuters\n",
    "\n",
    "SELECT morning_subscriber_type, count(*) as Count\n",
    "FROM `hanan-w205.Project_1_station_temp.trip_joined`\n",
    "GROUP BY morning_subscriber_type"
   ]
  },
  {
   "cell_type": "markdown",
   "id": "52638940",
   "metadata": {},
   "source": [
    "### Sanity Check #2- let's look at the usage by day, for both the commuter trips table and the general trips table"
   ]
  },
  {
   "cell_type": "code",
   "execution_count": 249,
   "id": "445e1590",
   "metadata": {},
   "outputs": [
    {
     "name": "stderr",
     "output_type": "stream",
     "text": [
      "Query complete after 0.00s: 100%|██████████| 1/1 [00:00<00:00, 506.99query/s] \n",
      "Downloading: 100%|██████████| 7/7 [00:01<00:00,  6.24rows/s]\n"
     ]
    }
   ],
   "source": [
    "%%bigquery days_general\n",
    "\n",
    "# Percentage of trips by day- General Trips\n",
    "\n",
    "SELECT weekday_name, ROUND(Count / SUM(Count) over(),2) percentage_of_week\n",
    "FROM (\n",
    "    SELECT weekday_name, count(*) as Count\n",
    "    FROM ( \n",
    "        SELECT FORMAT_DATE('%A', start_date) AS weekday_name\n",
    "        FROM `bigquery-public-data.san_francisco.bikeshare_trips`\n",
    "    )\n",
    "    GROUP BY weekday_name\n",
    ")\n",
    "ORDER BY \n",
    "     CASE\n",
    "          WHEN weekday_name = 'Monday' THEN 1\n",
    "          WHEN weekday_name = 'Tuesday' THEN 2\n",
    "          WHEN weekday_name = 'Wednesday' THEN 3\n",
    "          WHEN weekday_name = 'Thursday' THEN 4\n",
    "          WHEN weekday_name = 'Friday' THEN 5\n",
    "          WHEN weekday_name = 'Saturday' THEN 6\n",
    "          WHEN weekday_name = 'Sunday' THEN 7\n",
    "     END ASC"
   ]
  },
  {
   "cell_type": "code",
   "execution_count": 250,
   "id": "a286b46b",
   "metadata": {},
   "outputs": [
    {
     "data": {
      "text/html": [
       "<div>\n",
       "<style scoped>\n",
       "    .dataframe tbody tr th:only-of-type {\n",
       "        vertical-align: middle;\n",
       "    }\n",
       "\n",
       "    .dataframe tbody tr th {\n",
       "        vertical-align: top;\n",
       "    }\n",
       "\n",
       "    .dataframe thead th {\n",
       "        text-align: right;\n",
       "    }\n",
       "</style>\n",
       "<table border=\"1\" class=\"dataframe\">\n",
       "  <thead>\n",
       "    <tr style=\"text-align: right;\">\n",
       "      <th></th>\n",
       "      <th>weekday_name</th>\n",
       "      <th>percentage_of_week</th>\n",
       "    </tr>\n",
       "  </thead>\n",
       "  <tbody>\n",
       "    <tr>\n",
       "      <th>0</th>\n",
       "      <td>Monday</td>\n",
       "      <td>0.17</td>\n",
       "    </tr>\n",
       "    <tr>\n",
       "      <th>1</th>\n",
       "      <td>Tuesday</td>\n",
       "      <td>0.19</td>\n",
       "    </tr>\n",
       "    <tr>\n",
       "      <th>2</th>\n",
       "      <td>Wednesday</td>\n",
       "      <td>0.18</td>\n",
       "    </tr>\n",
       "    <tr>\n",
       "      <th>3</th>\n",
       "      <td>Thursday</td>\n",
       "      <td>0.18</td>\n",
       "    </tr>\n",
       "    <tr>\n",
       "      <th>4</th>\n",
       "      <td>Friday</td>\n",
       "      <td>0.16</td>\n",
       "    </tr>\n",
       "    <tr>\n",
       "      <th>5</th>\n",
       "      <td>Saturday</td>\n",
       "      <td>0.06</td>\n",
       "    </tr>\n",
       "    <tr>\n",
       "      <th>6</th>\n",
       "      <td>Sunday</td>\n",
       "      <td>0.05</td>\n",
       "    </tr>\n",
       "  </tbody>\n",
       "</table>\n",
       "</div>"
      ],
      "text/plain": [
       "  weekday_name  percentage_of_week\n",
       "0       Monday                0.17\n",
       "1      Tuesday                0.19\n",
       "2    Wednesday                0.18\n",
       "3     Thursday                0.18\n",
       "4       Friday                0.16\n",
       "5     Saturday                0.06\n",
       "6       Sunday                0.05"
      ]
     },
     "execution_count": 250,
     "metadata": {},
     "output_type": "execute_result"
    }
   ],
   "source": [
    "days_general"
   ]
  },
  {
   "cell_type": "code",
   "execution_count": 251,
   "id": "10476569",
   "metadata": {},
   "outputs": [
    {
     "data": {
      "text/plain": [
       "Text(0.5, 1.0, 'Trips by day (General Population)')"
      ]
     },
     "execution_count": 251,
     "metadata": {},
     "output_type": "execute_result"
    },
    {
     "data": {
      "image/png": "[encoded data removed]",
      "text/plain": [
       "<Figure size 432x288 with 1 Axes>"
      ]
     },
     "metadata": {},
     "output_type": "display_data"
    }
   ],
   "source": [
    "# Trips by day- General\n",
    "\n",
    "days = sns.barplot(data = days_general, x = \"weekday_name\", y = \"percentage_of_week\", color = \"blue\")\n",
    "days.set_xlabel(\"Day\", fontsize = 15)\n",
    "days.set_ylabel(\"Percentage from Weekly Trips\", fontsize = 15)\n",
    "days.set_title(\"Trips by day (General Population)\", fontsize = 15)"
   ]
  },
  {
   "cell_type": "code",
   "execution_count": 252,
   "id": "8c9e52db",
   "metadata": {},
   "outputs": [
    {
     "name": "stderr",
     "output_type": "stream",
     "text": [
      "Query complete after 0.00s: 100%|██████████| 1/1 [00:00<00:00, 395.02query/s] \n",
      "Downloading: 100%|██████████| 7/7 [00:01<00:00,  6.19rows/s]\n"
     ]
    }
   ],
   "source": [
    "%%bigquery days_commuters\n",
    "\n",
    "# Percentage of trips by day- Commuter trips\n",
    "\n",
    "SELECT weekday_name, ROUND(Count / SUM(Count) over(),2) percentage_of_week\n",
    "FROM (\n",
    "    SELECT weekday_name, count(*) as Count\n",
    "    FROM ( \n",
    "        SELECT FORMAT_DATE('%A', morning_start_date) AS weekday_name\n",
    "        FROM `hanan-w205.Project_1_station_temp.trip_joined`\n",
    "\n",
    "    )\n",
    "    GROUP BY weekday_name \n",
    ")\n",
    "ORDER BY \n",
    "     CASE\n",
    "          WHEN weekday_name = 'Monday' THEN 1\n",
    "          WHEN weekday_name = 'Tuesday' THEN 2\n",
    "          WHEN weekday_name = 'Wednesday' THEN 3\n",
    "          WHEN weekday_name = 'Thursday' THEN 4\n",
    "          WHEN weekday_name = 'Friday' THEN 5\n",
    "          WHEN weekday_name = 'Saturday' THEN 6\n",
    "          WHEN weekday_name = 'Sunday' THEN 7\n",
    "     END ASC"
   ]
  },
  {
   "cell_type": "code",
   "execution_count": 253,
   "id": "83d2f8aa",
   "metadata": {},
   "outputs": [
    {
     "data": {
      "text/html": [
       "<div>\n",
       "<style scoped>\n",
       "    .dataframe tbody tr th:only-of-type {\n",
       "        vertical-align: middle;\n",
       "    }\n",
       "\n",
       "    .dataframe tbody tr th {\n",
       "        vertical-align: top;\n",
       "    }\n",
       "\n",
       "    .dataframe thead th {\n",
       "        text-align: right;\n",
       "    }\n",
       "</style>\n",
       "<table border=\"1\" class=\"dataframe\">\n",
       "  <thead>\n",
       "    <tr style=\"text-align: right;\">\n",
       "      <th></th>\n",
       "      <th>weekday_name</th>\n",
       "      <th>percentage_of_week</th>\n",
       "    </tr>\n",
       "  </thead>\n",
       "  <tbody>\n",
       "    <tr>\n",
       "      <th>0</th>\n",
       "      <td>Monday</td>\n",
       "      <td>0.20</td>\n",
       "    </tr>\n",
       "    <tr>\n",
       "      <th>1</th>\n",
       "      <td>Tuesday</td>\n",
       "      <td>0.23</td>\n",
       "    </tr>\n",
       "    <tr>\n",
       "      <th>2</th>\n",
       "      <td>Wednesday</td>\n",
       "      <td>0.21</td>\n",
       "    </tr>\n",
       "    <tr>\n",
       "      <th>3</th>\n",
       "      <td>Thursday</td>\n",
       "      <td>0.20</td>\n",
       "    </tr>\n",
       "    <tr>\n",
       "      <th>4</th>\n",
       "      <td>Friday</td>\n",
       "      <td>0.16</td>\n",
       "    </tr>\n",
       "    <tr>\n",
       "      <th>5</th>\n",
       "      <td>Saturday</td>\n",
       "      <td>0.00</td>\n",
       "    </tr>\n",
       "    <tr>\n",
       "      <th>6</th>\n",
       "      <td>Sunday</td>\n",
       "      <td>0.00</td>\n",
       "    </tr>\n",
       "  </tbody>\n",
       "</table>\n",
       "</div>"
      ],
      "text/plain": [
       "  weekday_name  percentage_of_week\n",
       "0       Monday                0.20\n",
       "1      Tuesday                0.23\n",
       "2    Wednesday                0.21\n",
       "3     Thursday                0.20\n",
       "4       Friday                0.16\n",
       "5     Saturday                0.00\n",
       "6       Sunday                0.00"
      ]
     },
     "execution_count": 253,
     "metadata": {},
     "output_type": "execute_result"
    }
   ],
   "source": [
    "days_commuters"
   ]
  },
  {
   "cell_type": "code",
   "execution_count": 254,
   "id": "ca5eb68e",
   "metadata": {},
   "outputs": [
    {
     "data": {
      "text/plain": [
       "Text(0.5, 1.0, 'Trips by day (Commuters)')"
      ]
     },
     "execution_count": 254,
     "metadata": {},
     "output_type": "execute_result"
    },
    {
     "data": {
      "image/png": "[encoded data removed]",
      "text/plain": [
       "<Figure size 432x288 with 1 Axes>"
      ]
     },
     "metadata": {},
     "output_type": "display_data"
    }
   ],
   "source": [
    "# Trips by day- Commuters\n",
    "\n",
    "days = sns.barplot(data = days_general, x = \"weekday_name\", y = \"percentage_of_week\", color = \"darkgreen\")\n",
    "days.set_xlabel(\"Day\", fontsize = 15)\n",
    "days.set_ylabel(\"Percentage from Weekly Trips\", fontsize = 15)\n",
    "days.set_title(\"Trips by day (Commuters)\", fontsize = 15)"
   ]
  },
  {
   "cell_type": "markdown",
   "id": "5b27ed38",
   "metadata": {},
   "source": [
    "#### We can clearly see that the general trips population, which includes both commuters and non-commuters, also uses the service on Saturdays and Sundays, when people do not typically commute. On the other hand, with our new commuter table, we can see that 0% of trips are happening on Saturday and Sunday, which also strenghens our belief that the commuter table is reliable"
   ]
  },
  {
   "cell_type": "markdown",
   "id": "c4c2bd1d",
   "metadata": {},
   "source": [
    "### Finally, we will look at our 5 most popular commuter trips. It is important to note that our dataset only looks at roundtrips- so the order of the stations does not matter in the following table (between station1 and station2)"
   ]
  },
  {
   "cell_type": "code",
   "execution_count": 255,
   "id": "bcd52d79",
   "metadata": {},
   "outputs": [
    {
     "name": "stderr",
     "output_type": "stream",
     "text": [
      "Query complete after 0.00s: 100%|██████████| 1/1 [00:00<00:00, 824.51query/s] \n",
      "Downloading: 100%|██████████| 5/5 [00:01<00:00,  3.81rows/s]\n"
     ]
    }
   ],
   "source": [
    "%%bigquery stations_df\n",
    "\n",
    "SELECT morning_start_name as station1, morning_end_name as station2, count(*) as trip_freq\n",
    "FROM hanan-w205.Project_1_station_temp.trip_joined\n",
    "GROUP BY morning_start_name, morning_end_name\n",
    "ORDER BY trip_freq DESC\n",
    "LIMIT 5"
   ]
  },
  {
   "cell_type": "code",
   "execution_count": 256,
   "id": "9b7636fa",
   "metadata": {},
   "outputs": [
    {
     "data": {
      "text/html": [
       "<div>\n",
       "<style scoped>\n",
       "    .dataframe tbody tr th:only-of-type {\n",
       "        vertical-align: middle;\n",
       "    }\n",
       "\n",
       "    .dataframe tbody tr th {\n",
       "        vertical-align: top;\n",
       "    }\n",
       "\n",
       "    .dataframe thead th {\n",
       "        text-align: right;\n",
       "    }\n",
       "</style>\n",
       "<table border=\"1\" class=\"dataframe\">\n",
       "  <thead>\n",
       "    <tr style=\"text-align: right;\">\n",
       "      <th></th>\n",
       "      <th>station1</th>\n",
       "      <th>station2</th>\n",
       "      <th>trip_freq</th>\n",
       "    </tr>\n",
       "  </thead>\n",
       "  <tbody>\n",
       "    <tr>\n",
       "      <th>0</th>\n",
       "      <td>Harry Bridges Plaza (Ferry Building)</td>\n",
       "      <td>2nd at Townsend</td>\n",
       "      <td>1926</td>\n",
       "    </tr>\n",
       "    <tr>\n",
       "      <th>1</th>\n",
       "      <td>San Francisco Caltrain (Townsend at 4th)</td>\n",
       "      <td>Embarcadero at Folsom</td>\n",
       "      <td>1324</td>\n",
       "    </tr>\n",
       "    <tr>\n",
       "      <th>2</th>\n",
       "      <td>San Francisco Caltrain (Townsend at 4th)</td>\n",
       "      <td>Temporary Transbay Terminal (Howard at Beale)</td>\n",
       "      <td>1240</td>\n",
       "    </tr>\n",
       "    <tr>\n",
       "      <th>3</th>\n",
       "      <td>Steuart at Market</td>\n",
       "      <td>Embarcadero at Sansome</td>\n",
       "      <td>1046</td>\n",
       "    </tr>\n",
       "    <tr>\n",
       "      <th>4</th>\n",
       "      <td>Mountain View Caltrain Station</td>\n",
       "      <td>Mountain View City Hall</td>\n",
       "      <td>1039</td>\n",
       "    </tr>\n",
       "  </tbody>\n",
       "</table>\n",
       "</div>"
      ],
      "text/plain": [
       "                                   station1  \\\n",
       "0      Harry Bridges Plaza (Ferry Building)   \n",
       "1  San Francisco Caltrain (Townsend at 4th)   \n",
       "2  San Francisco Caltrain (Townsend at 4th)   \n",
       "3                         Steuart at Market   \n",
       "4            Mountain View Caltrain Station   \n",
       "\n",
       "                                        station2  trip_freq  \n",
       "0                                2nd at Townsend       1926  \n",
       "1                          Embarcadero at Folsom       1324  \n",
       "2  Temporary Transbay Terminal (Howard at Beale)       1240  \n",
       "3                         Embarcadero at Sansome       1046  \n",
       "4                        Mountain View City Hall       1039  "
      ]
     },
     "execution_count": 256,
     "metadata": {},
     "output_type": "execute_result"
    }
   ],
   "source": [
    "stations_df"
   ]
  },
  {
   "cell_type": "markdown",
   "id": "851e9683",
   "metadata": {},
   "source": [
    "# Q2 - What are your recommendations for offers (justify based on your findings)?"
   ]
  },
  {
   "cell_type": "markdown",
   "id": "6e72ece2",
   "metadata": {},
   "source": [
    "## Offer #1- Longer ride time (per trip) for subscribers on weekends\n",
    "\n",
    "As we saw earlier, commuters hardly use the service on weekends, when they are not commuting. In fact, it seems like the bikes are generally used much less over the weekends. Encouraging the users to use the bikes for errands and/or leisure over the weekends could increase their value from the subscription and keep them more engaged with the service/reduce churn"
   ]
  },
  {
   "cell_type": "markdown",
   "id": "05926679",
   "metadata": {},
   "source": [
    "## Offer #2- Lower or increase rates on peak commuting times\n",
    "\n",
    "As we saw earlier, the bikes are mostly used during morning and afternoon commute times. Diffrentiating the price between peak hours and non-peak hours could make a difference in demand, depending on the scenario and our goal:\n",
    "- Increasing prices during peak hours could lower the demand during those hours, while increasing revenue and allowing less bikes to be bought by the company and therefore saving costs. This will also save labor cost for truck moving bikes around where station are full or empty. On other hand, it might cause the number of users and subscribers to decrease.\n",
    "- Decreasing prices during peak hours could increase demand for bikes during commute hours, leading to more users and subscribers. On the other hand, it could lead to lower revenue and higher costs of purchasing more bikes and moving bikes around between stations.\n",
    "\n",
    "In order to determine which of the two is the right one, we will need more data which we do not have access to (such as labor and equipment costs). Another option will be using a model similar to Uber and Lyft's ride-share services, where the cost of the ride is dynamic according to demand."
   ]
  },
  {
   "cell_type": "markdown",
   "id": "5772e8bf",
   "metadata": {},
   "source": [
    "## Offer #3- Free first ride\n",
    "\n",
    "Looking at the data, we can see the number of rides done by subscribers is much higher than the number of single-time users, implying there is room for improvement in terms of non-subscribers trying the service for the first time. In addition, we saw that non-subscribers are typically not users who try and use the service for commuting.\n",
    "By allowing a first free ride for non-subscribers, we could increase the number of people trying the service and potentially becoming subscribers later on."
   ]
  },
  {
   "cell_type": "markdown",
   "id": "b76a7db7",
   "metadata": {},
   "source": [
    "## Offer #4- Cooperation with the Ferry and Caltrain\n",
    "\n",
    "The data tells us that the most popular commuter rides are from and to the ferry and Caltrain. By providing the users with special offers/discounts for those using the Caltrain and/or Ferry, we could increase the number of users. This could also work the other way around- The Caltrain and Ferry could also offer special rates for our service's subscribers/users, which will increase demand for both sides."
   ]
  }
 ],
 "metadata": {
  "environment": {
   "name": "common-cpu.m78",
   "type": "gcloud",
   "uri": "gcr.io/deeplearning-platform-release/base-cpu:m78"
  },
  "kernelspec": {
   "display_name": "Python 3",
   "language": "python",
   "name": "python3"
  },
  "language_info": {
   "codemirror_mode": {
    "name": "ipython",
    "version": 3
   },
   "file_extension": ".py",
   "mimetype": "text/x-python",
   "name": "python",
   "nbconvert_exporter": "python",
   "pygments_lexer": "ipython3",
   "version": "3.7.10"
  }
 },
 "nbformat": 4,
 "nbformat_minor": 5
}
